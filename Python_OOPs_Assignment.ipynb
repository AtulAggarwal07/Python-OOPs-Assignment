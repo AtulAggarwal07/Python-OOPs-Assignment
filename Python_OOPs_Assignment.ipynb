{
  "nbformat": 4,
  "nbformat_minor": 0,
  "metadata": {
    "colab": {
      "provenance": []
    },
    "kernelspec": {
      "name": "python3",
      "display_name": "Python 3"
    },
    "language_info": {
      "name": "python"
    }
  },
  "cells": [
    {
      "cell_type": "markdown",
      "source": [
        "# Python OOPs Questions\n"
      ],
      "metadata": {
        "id": "knOtm0ifQpGd"
      }
    },
    {
      "cell_type": "markdown",
      "source": [
        "- 1) What is Object-Oriented Programming (OOP)?\n",
        " - Answer :  Object-Oriented Programming (OOP) is a way of writing code using objects, which are like real-world items. It uses classes to create these objects and includes ideas like:\n",
        "\n",
        "Encapsulation – keeping data and functions together\n",
        "\n",
        "Inheritance – reusing code from other classes\n",
        "\n",
        "Polymorphism – using the same function in different ways\n",
        "\n",
        "Abstraction – hiding complex details\n",
        "\n",
        "- 2) What is a class in OOP?\n",
        " - Answer : A class is a blueprint to create objects. It defines properties (variables) and behaviors (methods).\n",
        "\n",
        "- 3) What is an object in OOP?\n",
        " - Answer :An object is an instance of a class. It has real values for the class's properties and can use its methods.\n",
        "\n",
        "- 4) What is the difference between abstraction and encapsulation?\n",
        " - Answer :\n",
        "\n",
        " Abstraction hides unnecessary details and shows only the important parts.\n",
        " Example: Using a phone without knowing how it works inside.\n",
        "\n",
        " Encapsulation hides the data inside a class and protects it from outside access.\n",
        " Example: Phone settings locked with a password.\n",
        "\n",
        "- 5)What are dunder methods in Python?\n",
        " - Answer: Dunder methods are special methods in Python that start and end with __. They let you define how objects behave with built-in functions or operators.\n",
        " Example:\n",
        " __init__ is used to create (initialize) an object.\n",
        "  __str__ is used to show the object as a string.\n",
        "\n",
        "- 6) Explain the concept of inheritance in OOP?\n",
        " - Answer: Inheritance in OOP means a class can use the properties and methods of another class. It helps in reusing code.\n",
        "\n",
        "The class that gives is called the Parent (or Base) class.\n",
        "\n",
        "The class that receives is the Child (or Derived) class.\n",
        "\n",
        "- 7) What is polymorphism in OOP?\n",
        " - Answer : Polymorphism in OOP means using the same function or method name to do different things based on the object.\n",
        "Example:\n",
        "A draw() method can work differently for Circle, Square, or Triangle classes.\n",
        "\n",
        "- 8) How is encapsulation achieved in Python?\n",
        " - Answer : Encapsulation in Python is achieved by using classes and hiding data using:\n",
        "\n",
        "Private variables (by adding _ or __ before the name)\n",
        "\n",
        "Getter and setter methods to access or change the data safely\n",
        "\n",
        "- 9)  What is a constructor in Python?\n",
        " - Answer : A constructor in Python is a special method called __init__ that runs automatically when an object is created.\n",
        "It is used to initialize (set) values for the object.\n",
        "\n",
        "- 10) What are class and static methods in Python ?\n",
        " - Answer : Class method: Works with the class, not the object. Uses @classmethod and cls as the first parameter.\n",
        "  Can change class-level data.\n",
        "\n",
        " Static method: Doesn't need class or object info. Uses @staticmethod.\n",
        "  Just like a regular function inside a class.\n",
        "\n",
        "- 11) What is method overloading in Python?\n",
        " - Answer :  Method overloading means having multiple methods with the same name but different arguments.\n",
        "\n",
        "- 12) What is method overriding in OOP?\n",
        " - Answer : Method overriding means a child class defines a method with the same name as in the parent class, to change its behavior.\n",
        "\n",
        "- 13) What is a property decorator in Python?\n",
        " - Answer : The property decorator in Python is used to turn a method into a read-only property.\n",
        "\n",
        "- 14) Why is polymorphism important in OOP?\n",
        " - Answer : Polymorphism is important in OOP because it makes code more flexible and easier to reuse. It lets you use one function name to work with different types of objects.\n",
        "\n",
        "- 15) What is an abstract class in Python?\n",
        " - Answer : An abstract class in Python is a class that can't be directly used to create objects. It's used as a base class and has abstract methods (methods without code).\n",
        "\n",
        "- 16) What are the advantages of OOP ?\n",
        " - Answer : Advantages of OOP (simple):\n",
        "\n",
        "- Code Reuse – Use existing code with inheritance\n",
        "\n",
        "- Easy to Maintain – Organized code with classes\n",
        "\n",
        "- Data Protection – Use encapsulation to hide data\n",
        "\n",
        "- Flexibility – Polymorphism allows different behaviors\n",
        "\n",
        "- Real-World Mapping – Models real-life objects easily\n",
        "\n",
        "- 17) What is the difference between a class variable and an instance variable?\n",
        " - Answer :\n",
        " Class variable vs Instance variable (simple):\n",
        "\n",
        "Class variable: Shared by all objects of the class.\n",
        " Defined outside methods, inside the class\n",
        "\n",
        "Instance variable: Unique for each object.\n",
        " Defined using self inside methods like __init__\n",
        "\n",
        "- 18) What is multiple inheritance in Python?\n",
        " - Answer : Multiple inheritance in Python means a class can inherit from more than one parent class. It allows a child class to use features from multiple classes.\n",
        "\n",
        "- 19)  Explain the purpose of ‘’__str__’ and ‘__repr__’ ‘ methods in PythonH ?\n",
        " - Answer :\n",
        "\n",
        " __str__: Returns a user-friendly string of the object. Used when you print the object.\n",
        "\n",
        " __repr__: Returns a developer-friendly string (for debugging).Used in the Python shell or with repr().\n",
        "\n",
        "- 20) What is the significance of the ‘super()’ function in Python?\n",
        " - Answer :  The super() function in Python is used to call methods from the parent class.\n",
        " It helps in reusing the parent’s code without naming the parent class directly.\n",
        "\n",
        " Main uses:\n",
        "\n",
        "  Call the parent class’s __init__()\n",
        "\n",
        "  Call overridden methods in inheritance\n",
        "\n",
        "- 21) What is the significance of the __del__ method in Python?\n",
        " - Answer : The __del__ method in Python is called when an object is about to be destroyed (deleted).\n",
        "\n",
        "- 22) What is the difference between @staticmethod and @classmethod in Python?\n",
        " - Answer : Difference between @staticmethod and @classmethod (simple):\n",
        "\n",
        "   - staticmethod:\n",
        "     - Doesn’t take self or cls\n",
        "   \n",
        "     - Can’t access class or object data\n",
        "\n",
        "     - Just a function inside a class\n",
        "\n",
        "   - classmethod:\n",
        "\n",
        "     - Takes cls as the first argument\n",
        "\n",
        "     - Can access or change class variables\n",
        "\n",
        "     - Useful for factory methods or class-level logic\n",
        "\n",
        "- 23) How does polymorphism work in Python with inheritance ?\n",
        " - Answer : Polymorphism with inheritance in Python means that child classes can have their own version of a method from the parent class, and you can use them interchangeably.\n",
        " Same method name, different behavior based on the object.\n",
        "\n",
        "- 24) What is method chaining in Python OOP?\n",
        " - Answer : Method chaining in Python OOP means calling multiple methods on the same object in a single line, one after another.\n",
        "Each method returns self (the object), so the next method can be called.\n",
        "\n",
        "- 25) What is the purpose of the __call__ method in Python?\n",
        " - Answer : The __call__ method in Python lets an object be called like a function.\n",
        "When you write object(), Python runs the object's __call__ method.\n",
        "\n",
        "Purpose:\n",
        "\n",
        "To make objects behave like functions\n",
        "\n",
        "Useful in function wrappers, decorators, or custom callable classes\n",
        "\n"
      ],
      "metadata": {
        "id": "3DjMYp6cQvsP"
      }
    },
    {
      "cell_type": "markdown",
      "source": [
        "# Practical Questions"
      ],
      "metadata": {
        "id": "L8hKIfXn6-cf"
      }
    },
    {
      "cell_type": "code",
      "execution_count": null,
      "metadata": {
        "id": "VVn7QhESQiAc",
        "colab": {
          "base_uri": "https://localhost:8080/"
        },
        "outputId": "d28ffd34-92b0-4839-e7c0-044ef3d080eb"
      },
      "outputs": [
        {
          "output_type": "stream",
          "name": "stdout",
          "text": [
            "Bark!\n"
          ]
        }
      ],
      "source": [
        "# 1. Create a parent class Animal with a method speak() that prints a generic message. Create a child class Dog that overrides the speak() method to print \"Bark!\".\n",
        "class Animal:\n",
        "    def speak(self):\n",
        "        print(\"Animal speaks\")\n",
        "\n",
        "class Dog(Animal):\n",
        "    def speak(self):\n",
        "        print(\"Bark!\")\n",
        "\n",
        "dog = Dog()\n",
        "dog.speak()"
      ]
    },
    {
      "cell_type": "code",
      "source": [
        "# 2. Write a program to create an abstract class Shape with a method area(). Derive classes Circle and Rectangle from it and implement the area() method in both.\n",
        "from abc import ABC, abstractmethod\n",
        "\n",
        "class Shape(ABC):\n",
        "    @abstractmethod\n",
        "    def area(self):\n",
        "        pass\n",
        "\n",
        "class Circle(Shape):\n",
        "    def __init__(self, radius):\n",
        "        self.radius = radius\n",
        "\n",
        "    def area(self):\n",
        "        return 3.14 * self.radius * self.radius\n",
        "\n",
        "class Rectangle(Shape):\n",
        "    def __init__(self, length, width):\n",
        "        self.length = length\n",
        "        self.width = width\n",
        "\n",
        "    def area(self):\n",
        "        return self.length * self.width\n",
        "\n",
        "c = Circle(5)\n",
        "r = Rectangle(4, 6)\n",
        "print(c.area())\n",
        "print(r.area())"
      ],
      "metadata": {
        "id": "PDHR9tjS7tH7"
      },
      "execution_count": null,
      "outputs": []
    },
    {
      "cell_type": "code",
      "source": [
        "# 3. Implement a multi-level inheritance scenario where a class Vehicle has an attribute type. Derive a class Car and further derive a class ElectricCar that adds a battery attribute.\n",
        "class Vehicle:\n",
        "    def __init__(self, type):\n",
        "        self.type = type\n",
        "\n",
        "class Car(Vehicle):\n",
        "    def __init__(self, type, brand):\n",
        "        super().__init__(type)\n",
        "        self.brand = brand\n",
        "\n",
        "class ElectricCar(Car):\n",
        "    def __init__(self, type, brand, battery):\n",
        "        super().__init__(type, brand)\n",
        "        self.battery = battery\n",
        "\n",
        "ecar = ElectricCar(\"Electric\", \"Tesla\", \"100 kWh\")\n",
        "print(ecar.type, ecar.brand, ecar.battery)\n"
      ],
      "metadata": {
        "id": "7UR-WQP78Bdd"
      },
      "execution_count": null,
      "outputs": []
    },
    {
      "cell_type": "code",
      "source": [
        "# 4. Demonstrate polymorphism by creating a base class Bird with a method fly(). Create two derived classes Sparrow and Penguin that override the fly() method.\n",
        "class Bird:\n",
        "    def fly(self):\n",
        "        print(\"Bird can fly\")\n",
        "\n",
        "class Sparrow(Bird):\n",
        "    def fly(self):\n",
        "        print(\"Sparrow flies high\")\n",
        "\n",
        "class Penguin(Bird):\n",
        "    def fly(self):\n",
        "        print(\"Penguin can't fly\")\n",
        "\n",
        "b1 = Sparrow()\n",
        "b2 = Penguin()\n",
        "b1.fly()\n",
        "b2.fly()"
      ],
      "metadata": {
        "id": "1t6CoiK08BaN"
      },
      "execution_count": null,
      "outputs": []
    },
    {
      "cell_type": "code",
      "source": [
        "# 5. Write a program to demonstrate encapsulation by creating a class BankAccount with private attributes balance and methods to deposit, withdraw, and check balance.\n",
        "class BankAccount:\n",
        "    def __init__(self):\n",
        "        self.__balance = 0\n",
        "\n",
        "    def deposit(self, amount):\n",
        "        self.__balance += amount\n",
        "\n",
        "    def withdraw(self, amount):\n",
        "        if amount <= self.__balance:\n",
        "            self.__balance -= amount\n",
        "        else:\n",
        "            print(\"Insufficient balance\")\n",
        "\n",
        "    def check_balance(self):\n",
        "        return self.__balance\n",
        "\n",
        "acc = BankAccount()\n",
        "acc.deposit(1000)\n",
        "acc.withdraw(500)\n",
        "print(acc.check_balance())"
      ],
      "metadata": {
        "id": "WvpUtG6-8BX5"
      },
      "execution_count": null,
      "outputs": []
    },
    {
      "cell_type": "code",
      "source": [
        "# 6. Demonstrate runtime polymorphism using a method play() in a base class Instrument. Derive classes Guitar and Piano that implement their own version of play().\n",
        "class Instrument:\n",
        "    def play(self):\n",
        "        print(\"Instrument is playing\")\n",
        "\n",
        "class Guitar(Instrument):\n",
        "    def play(self):\n",
        "        print(\"Guitar is playing\")\n",
        "\n",
        "class Piano(Instrument):\n",
        "    def play(self):\n",
        "        print(\"Piano is playing\")\n",
        "\n",
        "inst = [Guitar(), Piano()]\n",
        "for i in inst:\n",
        "    i.play()"
      ],
      "metadata": {
        "id": "LiF_1a2S8BU6"
      },
      "execution_count": null,
      "outputs": []
    },
    {
      "cell_type": "code",
      "source": [
        "# 7. Create a class MathOperations with a class method add_numbers() to add two numbers and a static method subtract_numbers() to subtract two numbers.\n",
        "class MathOperations:\n",
        "    @classmethod\n",
        "    def add_numbers(cls, a, b):\n",
        "        return a + b\n",
        "\n",
        "    @staticmethod\n",
        "    def subtract_numbers(a, b):\n",
        "        return a - b\n",
        "\n",
        "print(MathOperations.add_numbers(5, 3))\n",
        "print(MathOperations.subtract_numbers(10, 4))"
      ],
      "metadata": {
        "id": "uvk-G0Wb8BSu"
      },
      "execution_count": null,
      "outputs": []
    },
    {
      "cell_type": "code",
      "source": [
        "# 8. Implement a class Person with a class method to count the total number of persons created.\n",
        "class Person:\n",
        "    count = 0\n",
        "\n",
        "    def __init__(self, name):\n",
        "        self.name = name\n",
        "        Person.count += 1\n",
        "\n",
        "    @classmethod\n",
        "    def total_persons(cls):\n",
        "        return cls.count\n",
        "\n",
        "p1 = Person(\"Alice\")\n",
        "p2 = Person(\"Bob\")\n",
        "print(Person.total_persons())"
      ],
      "metadata": {
        "id": "yY-fy84T8BPw"
      },
      "execution_count": null,
      "outputs": []
    },
    {
      "cell_type": "code",
      "source": [
        "# 9. Write a class Fraction with attributes numerator and denominator. Override the str method to display the fraction as \"numerator/denominator\".\n",
        "class Fraction:\n",
        "    def __init__(self, num, den):\n",
        "        self.num = num\n",
        "        self.den = den\n",
        "\n",
        "    def __str__(self):\n",
        "        return f\"{self.num}/{self.den}\"\n",
        "\n",
        "f = Fraction(3, 4)\n",
        "print(f)"
      ],
      "metadata": {
        "id": "YF8tIBGx8BNq"
      },
      "execution_count": null,
      "outputs": []
    },
    {
      "cell_type": "code",
      "source": [
        "# 10. Demonstrate operator overloading by creating a class Vector and overriding the add method to add two vectors.\n",
        "class Vector:\n",
        "    def __init__(self, x, y):\n",
        "        self.x = x\n",
        "        self.y = y\n",
        "\n",
        "    def __add__(self, other):\n",
        "        return Vector(self.x + other.x, self.y + other.y)\n",
        "\n",
        "    def __str__(self):\n",
        "        return f\"({self.x}, {self.y})\"\n",
        "\n",
        "v1 = Vector(2, 3)\n",
        "v2 = Vector(4, 5)\n",
        "v3 = v1 + v2\n",
        "print(v3)"
      ],
      "metadata": {
        "id": "4YctiDhS8A74"
      },
      "execution_count": null,
      "outputs": []
    },
    {
      "cell_type": "code",
      "source": [
        "# 11. Create a class Person with attributes name and age. Add a method greet() that prints \"Hello, my name is {name} and I am {age} years old.\"\n",
        "class Person:\n",
        "    def __init__(self, name, age):\n",
        "        self.name = name\n",
        "        self.age = age\n",
        "\n",
        "    def greet(self):\n",
        "        print(f\"Hello, my name is {self.name} and I am {self.age} years old.\")\n",
        "\n",
        "p = Person(\"John\", 25)\n",
        "p.greet()"
      ],
      "metadata": {
        "id": "Fo5KYm7f8Aut"
      },
      "execution_count": null,
      "outputs": []
    },
    {
      "cell_type": "code",
      "source": [
        "# 12. Implement a class Student with attributes name and grades. Create a method average_grade() to compute the average of the grades.\n",
        "class Student:\n",
        "    def __init__(self, name, grades):\n",
        "        self.name = name\n",
        "        self.grades = grades\n",
        "\n",
        "    def average_grade(self):\n",
        "        return sum(self.grades) / len(self.grades)\n",
        "\n",
        "s = Student(\"Alice\", [90, 80, 70])\n",
        "print(s.average_grade())"
      ],
      "metadata": {
        "id": "TKZgDSP48As0"
      },
      "execution_count": null,
      "outputs": []
    },
    {
      "cell_type": "code",
      "source": [
        "# 13. Create a class Rectangle with methods set_dimensions() to set the dimensions and area() to calculate the area.\n",
        "class Rectangle:\n",
        "    def set_dimensions(self, length, width):\n",
        "        self.length = length\n",
        "        self.width = width\n",
        "\n",
        "    def area(self):\n",
        "        return self.length * self.width\n",
        "\n",
        "r = Rectangle()\n",
        "r.set_dimensions(5, 4)\n",
        "print(r.area())"
      ],
      "metadata": {
        "id": "jverXje08Ahp"
      },
      "execution_count": null,
      "outputs": []
    },
    {
      "cell_type": "code",
      "source": [
        "# 14. Create a class Employee with a method calculate_salary() that computes the salary based on hours worked and hourly rate. Create a derived class Manager that adds a bonus to the salary.\n",
        "class Employee:\n",
        "    def calculate_salary(self, hours, rate):\n",
        "        return hours * rate\n",
        "\n",
        "class Manager(Employee):\n",
        "    def calculate_salary(self, hours, rate, bonus):\n",
        "        return super().calculate_salary(hours, rate) + bonus\n",
        "\n",
        "m = Manager()\n",
        "print(m.calculate_salary(40, 50, 500))"
      ],
      "metadata": {
        "id": "J-_D_6ss8AI0"
      },
      "execution_count": null,
      "outputs": []
    },
    {
      "cell_type": "code",
      "source": [
        "# 15. Create a class Product with attributes name, price, and quantity. Implement a method total_price() that calculates the total price of the product.\n",
        "class Product:\n",
        "    def __init__(self, name, price, quantity):\n",
        "        self.name = name\n",
        "        self.price = price\n",
        "        self.quantity = quantity\n",
        "\n",
        "    def total_price(self):\n",
        "        return self.price * self.quantity\n",
        "\n",
        "p = Product(\"Laptop\", 50000, 2)\n",
        "print(p.total_price())"
      ],
      "metadata": {
        "id": "AggsrT6U9Nqf"
      },
      "execution_count": null,
      "outputs": []
    },
    {
      "cell_type": "code",
      "source": [
        "# 16. Create a class Animal with an abstract method sound(). Create two derived classes Cow and Sheep that implement the sound() method.\n",
        "from abc import ABC, abstractmethod\n",
        "\n",
        "class Animal(ABC):\n",
        "    @abstractmethod\n",
        "    def sound(self):\n",
        "        pass\n",
        "\n",
        "class Cow(Animal):\n",
        "    def sound(self):\n",
        "        print(\"Moo\")\n",
        "\n",
        "class Sheep(Animal):\n",
        "    def sound(self):\n",
        "        print(\"Baa\")\n",
        "\n",
        "a1 = Cow()\n",
        "a2 = Sheep()\n",
        "a1.sound()\n",
        "a2.sound()"
      ],
      "metadata": {
        "id": "rFH1PEc49Nn5"
      },
      "execution_count": null,
      "outputs": []
    },
    {
      "cell_type": "code",
      "source": [
        "# 17. Create a class Book with attributes title, author, and year_published. Add a method get_book_info() that returns a formatted string with the book's details.\n",
        "class Book:\n",
        "    def __init__(self, title, author, year_published):\n",
        "        self.title = title\n",
        "        self.author = author\n",
        "        self.year_published = year_published\n",
        "\n",
        "    def get_book_info(self):\n",
        "        return f\"{self.title} by {self.author} ({self.year_published})\"\n",
        "\n",
        "b = Book(\"1984\", \"George Orwell\", 1949)\n",
        "print(b.get_book_info())"
      ],
      "metadata": {
        "id": "dD-weKyV9Nle"
      },
      "execution_count": null,
      "outputs": []
    },
    {
      "cell_type": "code",
      "source": [
        "# 18. Create a class House with attributes address and price. Create a derived class Mansion that adds an attribute number_of_rooms.\n",
        "class House:\n",
        "    def __init__(self, address, price):\n",
        "        self.address = address\n",
        "        self.price = price\n",
        "\n",
        "class Mansion(House):\n",
        "    def __init__(self, address, price, number_of_rooms):\n",
        "        super().__init__(address, price)\n",
        "        self.number_of_rooms = number_of_rooms\n",
        "\n",
        "m = Mansion(\"123 Luxury St\", 1000000, 10)\n",
        "print(m.address, m.price, m.number_of_rooms)"
      ],
      "metadata": {
        "id": "dhrzngTN9Nig"
      },
      "execution_count": null,
      "outputs": []
    }
  ]
}